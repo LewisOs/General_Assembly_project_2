{
 "cells": [
  {
   "cell_type": "markdown",
   "metadata": {},
   "source": [
    "<img src=\"http://imgur.com/1ZcRyrc.png\" style=\"float: left; margin: 15px; height: 80px\">\n",
    "\n",
    "# Project 2\n",
    "\n",
    "### Exploratory Data Analysis (EDA)\n",
    "\n",
    "---\n",
    "\n",
    "Your hometown mayor just created a new data analysis team to give policy advice, and the administration recruited _you_ via LinkedIn to join it. Unfortunately, due to budget constraints, for now the \"team\" is just you...\n",
    "\n",
    "The mayor wants to start a new initiative to move the needle on one of two separate issues: high school education outcomes, or drug abuse in the community.\n",
    "\n",
    "Also unfortunately, that is the entirety of what you've been told. And the mayor just went on a lobbyist-funded fact-finding trip in the Bahamas. In the meantime, you got your hands on two national datasets: one on SAT scores by state, and one on drug use by age. Start exploring these to look for useful patterns and possible hypotheses!\n",
    "\n",
    "---\n",
    "\n",
    "This project is focused on exploratory data analysis, aka \"EDA\". EDA is an essential part of the data science analysis pipeline. Failure to perform EDA before modeling is almost guaranteed to lead to bad models and faulty conclusions. What you do in this project are good practices for all projects going forward, especially those after this course!\n",
    "\n",
    "This lab includes a variety of plotting problems. Much of the plotting code will be left up to you to find either in the lesson notes, or if not there, online. There are massive amounts of code snippets either in documentation or sites like [Stack Overflow](https://stackoverflow.com/search?q=%5Bpython%5D+seaborn) that have almost certainly done what you are trying to do.\n",
    "\n",
    "**Get used to googling for code!** You will use it every single day as a data scientist, especially for visualization and plotting.\n",
    "\n",
    "#### Package imports"
   ]
  },
  {
   "cell_type": "code",
   "execution_count": 298,
   "metadata": {},
   "outputs": [],
   "source": [
    "import numpy as np\n",
    "import scipy.stats as stats\n",
    "import csv\n",
    "import pandas as pd\n",
    "import matplotlib.pyplot as plt\n",
    "import seaborn as sns\n",
    "\n",
    "# this line tells jupyter notebook to put the plots in the notebook rather than saving them to file\n",
    "%matplotlib inline\n",
    "\n",
    "# this line makes plots prettier on mac retina screens - if you don't have one it shouldn't do anything\n",
    "%config InlineBackend.figure_format = 'retina'"
   ]
  },
  {
   "cell_type": "markdown",
   "metadata": {},
   "source": [
    "<img src=\"http://imgur.com/l5NasQj.png\" style=\"float: left; margin: 25px 15px 0px 0px; height: 25px\">\n",
    "\n",
    "## 1. Load the `sat_scores.csv` dataset and describe it\n",
    "\n",
    "---\n",
    "\n",
    "You should replace the placeholder path to the `sat_scores.csv` dataset below with your specific path to the file.\n",
    "\n",
    "### 1.1 Load the file with the `csv` module and put it in a Python dictionary\n",
    "\n",
    "The dictionary format for data will be the column names as key, and the data under each column as the values.\n",
    "\n",
    "Toy example:\n",
    "```python\n",
    "data = {\n",
    "    'column1':[0,1,2,3],\n",
    "    'column2':['a','b','c','d']\n",
    "    }\n",
    "```"
   ]
  },
  {
   "cell_type": "code",
   "execution_count": 299,
   "metadata": {},
   "outputs": [],
   "source": [
    "# Loading the file with the csv module\n",
    "\n",
    "sat_csv = \"/Users/lewis/Desktop/GA/DSI25-lessons/projects/project-2/sat_scores.csv\"\n",
    "\n",
    "with open(sat_csv, mode='r') as csv_file:\n",
    "    csv_reader = csv.reader(csv_file)\n",
    "        \n",
    "    # lists of column values, to be used as dict values\n",
    "    state = []\n",
    "    rate = []\n",
    "    verbal = []\n",
    "    math = []\n",
    "    \n",
    "    # skipping header/column name row\n",
    "    next(csv_reader)\n",
    "\n",
    "    # populating lists\n",
    "    for line in csv_reader:\n",
    "        state.append(line[0])\n",
    "        rate.append(int(line[1]))\n",
    "        verbal.append(int(line[2]))\n",
    "        math.append(int(line[3]))\n",
    "\n",
    "# building dict\n",
    "sat_dict = {'state':state, 'rate':rate, 'verbal':verbal, 'math':math}"
   ]
  },
  {
   "cell_type": "markdown",
   "metadata": {},
   "source": [
    "### 1.2 Make a pandas DataFrame object with the SAT dictionary, and another with the pandas `.read_csv()` function\n",
    "\n",
    "Compare the DataFrames using the `.dtypes` attribute in the DataFrame objects. What is the difference between loading from file and inputting this dictionary (if any)?"
   ]
  },
  {
   "cell_type": "code",
   "execution_count": 300,
   "metadata": {},
   "outputs": [],
   "source": [
    "# Making a DataFrame with sat_dict\n",
    "sat_dict_to_df = pd.DataFrame(sat_dict)"
   ]
  },
  {
   "cell_type": "code",
   "execution_count": 301,
   "metadata": {},
   "outputs": [],
   "source": [
    "# Making a DataFrame with pd.read_csv()\n",
    "sat = pd.read_csv(sat_csv)\n",
    "sat.columns = [col.lower() for col in sat.columns]"
   ]
  },
  {
   "cell_type": "code",
   "execution_count": 302,
   "metadata": {},
   "outputs": [
    {
     "data": {
      "text/plain": [
       "state     object\n",
       "rate       int64\n",
       "verbal     int64\n",
       "math       int64\n",
       "dtype: object"
      ]
     },
     "execution_count": 302,
     "metadata": {},
     "output_type": "execute_result"
    }
   ],
   "source": [
    "# Compare the DataFrames using the .dtypes attribute in the DataFrame objects.\n",
    "sat_dict_to_df.dtypes"
   ]
  },
  {
   "cell_type": "code",
   "execution_count": 303,
   "metadata": {},
   "outputs": [
    {
     "data": {
      "text/plain": [
       "state     object\n",
       "rate       int64\n",
       "verbal     int64\n",
       "math       int64\n",
       "dtype: object"
      ]
     },
     "execution_count": 303,
     "metadata": {},
     "output_type": "execute_result"
    }
   ],
   "source": [
    "sat.dtypes"
   ]
  },
  {
   "cell_type": "markdown",
   "metadata": {},
   "source": [
    "**Q:** What is the difference between loading from file and inputting this dictionary (if any)?\n",
    "\n",
    "**A:** sat_dict_to_df's dtypes are the same as sat's, but only because I manually set them to be. If I did not convert the string column values to floats when creating the dictionary, the columns in the DataFrame would be of type `object` (i.e. strings). "
   ]
  },
  {
   "cell_type": "markdown",
   "metadata": {},
   "source": [
    "### 1.3 Look at the first ten rows of the DataFrame: what does our data describe?\n",
    "\n",
    "From now on, use the DataFrame loaded from the file using the `.read_csv()` function.\n",
    "\n",
    "Use the `.head(num)` built-in DataFrame function, where `num` is the number of rows to print out.\n",
    "\n",
    "You are not given a \"codebook\" with this data, so you will have to make some (very minor) inference."
   ]
  },
  {
   "cell_type": "code",
   "execution_count": 304,
   "metadata": {},
   "outputs": [
    {
     "data": {
      "text/html": [
       "<div>\n",
       "<style scoped>\n",
       "    .dataframe tbody tr th:only-of-type {\n",
       "        vertical-align: middle;\n",
       "    }\n",
       "\n",
       "    .dataframe tbody tr th {\n",
       "        vertical-align: top;\n",
       "    }\n",
       "\n",
       "    .dataframe thead th {\n",
       "        text-align: right;\n",
       "    }\n",
       "</style>\n",
       "<table border=\"1\" class=\"dataframe\">\n",
       "  <thead>\n",
       "    <tr style=\"text-align: right;\">\n",
       "      <th></th>\n",
       "      <th>state</th>\n",
       "      <th>rate</th>\n",
       "      <th>verbal</th>\n",
       "      <th>math</th>\n",
       "    </tr>\n",
       "  </thead>\n",
       "  <tbody>\n",
       "    <tr>\n",
       "      <th>0</th>\n",
       "      <td>CT</td>\n",
       "      <td>82</td>\n",
       "      <td>509</td>\n",
       "      <td>510</td>\n",
       "    </tr>\n",
       "    <tr>\n",
       "      <th>1</th>\n",
       "      <td>NJ</td>\n",
       "      <td>81</td>\n",
       "      <td>499</td>\n",
       "      <td>513</td>\n",
       "    </tr>\n",
       "    <tr>\n",
       "      <th>2</th>\n",
       "      <td>MA</td>\n",
       "      <td>79</td>\n",
       "      <td>511</td>\n",
       "      <td>515</td>\n",
       "    </tr>\n",
       "    <tr>\n",
       "      <th>3</th>\n",
       "      <td>NY</td>\n",
       "      <td>77</td>\n",
       "      <td>495</td>\n",
       "      <td>505</td>\n",
       "    </tr>\n",
       "    <tr>\n",
       "      <th>4</th>\n",
       "      <td>NH</td>\n",
       "      <td>72</td>\n",
       "      <td>520</td>\n",
       "      <td>516</td>\n",
       "    </tr>\n",
       "    <tr>\n",
       "      <th>5</th>\n",
       "      <td>RI</td>\n",
       "      <td>71</td>\n",
       "      <td>501</td>\n",
       "      <td>499</td>\n",
       "    </tr>\n",
       "    <tr>\n",
       "      <th>6</th>\n",
       "      <td>PA</td>\n",
       "      <td>71</td>\n",
       "      <td>500</td>\n",
       "      <td>499</td>\n",
       "    </tr>\n",
       "    <tr>\n",
       "      <th>7</th>\n",
       "      <td>VT</td>\n",
       "      <td>69</td>\n",
       "      <td>511</td>\n",
       "      <td>506</td>\n",
       "    </tr>\n",
       "    <tr>\n",
       "      <th>8</th>\n",
       "      <td>ME</td>\n",
       "      <td>69</td>\n",
       "      <td>506</td>\n",
       "      <td>500</td>\n",
       "    </tr>\n",
       "    <tr>\n",
       "      <th>9</th>\n",
       "      <td>VA</td>\n",
       "      <td>68</td>\n",
       "      <td>510</td>\n",
       "      <td>501</td>\n",
       "    </tr>\n",
       "  </tbody>\n",
       "</table>\n",
       "</div>"
      ],
      "text/plain": [
       "  state  rate  verbal  math\n",
       "0    CT    82     509   510\n",
       "1    NJ    81     499   513\n",
       "2    MA    79     511   515\n",
       "3    NY    77     495   505\n",
       "4    NH    72     520   516\n",
       "5    RI    71     501   499\n",
       "6    PA    71     500   499\n",
       "7    VT    69     511   506\n",
       "8    ME    69     506   500\n",
       "9    VA    68     510   501"
      ]
     },
     "execution_count": 304,
     "metadata": {},
     "output_type": "execute_result"
    }
   ],
   "source": [
    "sat.head(10)"
   ]
  },
  {
   "cell_type": "code",
   "execution_count": 305,
   "metadata": {},
   "outputs": [
    {
     "data": {
      "text/plain": [
       "52"
      ]
     },
     "execution_count": 305,
     "metadata": {},
     "output_type": "execute_result"
    }
   ],
   "source": [
    "sat.state.value_counts().size"
   ]
  },
  {
   "cell_type": "code",
   "execution_count": 306,
   "metadata": {},
   "outputs": [
    {
     "data": {
      "text/html": [
       "<div>\n",
       "<style scoped>\n",
       "    .dataframe tbody tr th:only-of-type {\n",
       "        vertical-align: middle;\n",
       "    }\n",
       "\n",
       "    .dataframe tbody tr th {\n",
       "        vertical-align: top;\n",
       "    }\n",
       "\n",
       "    .dataframe thead th {\n",
       "        text-align: right;\n",
       "    }\n",
       "</style>\n",
       "<table border=\"1\" class=\"dataframe\">\n",
       "  <thead>\n",
       "    <tr style=\"text-align: right;\">\n",
       "      <th></th>\n",
       "      <th>state</th>\n",
       "      <th>rate</th>\n",
       "      <th>verbal</th>\n",
       "      <th>math</th>\n",
       "    </tr>\n",
       "  </thead>\n",
       "  <tbody>\n",
       "    <tr>\n",
       "      <th>51</th>\n",
       "      <td>All</td>\n",
       "      <td>45</td>\n",
       "      <td>506</td>\n",
       "      <td>514</td>\n",
       "    </tr>\n",
       "  </tbody>\n",
       "</table>\n",
       "</div>"
      ],
      "text/plain": [
       "   state  rate  verbal  math\n",
       "51   All    45     506   514"
      ]
     },
     "execution_count": 306,
     "metadata": {},
     "output_type": "execute_result"
    }
   ],
   "source": [
    "# checking what the 'All' row is\n",
    "sat.loc[sat['state'] == 'All']"
   ]
  },
  {
   "cell_type": "code",
   "execution_count": 307,
   "metadata": {},
   "outputs": [
    {
     "data": {
      "text/plain": [
       "rate       37.000000\n",
       "verbal    532.529412\n",
       "math      531.843137\n",
       "dtype: float64"
      ]
     },
     "execution_count": 307,
     "metadata": {},
     "output_type": "execute_result"
    }
   ],
   "source": [
    "# checking if the 'All' row is the means of the other rows (it's not)\n",
    "all_dropped = sat.loc[sat['state'] != 'All']\n",
    "all_dropped.mean()"
   ]
  },
  {
   "cell_type": "code",
   "execution_count": 308,
   "metadata": {},
   "outputs": [],
   "source": [
    "\"\"\"\n",
    "My best guess is that the all row is the national average. If correct, the ‘All’ row is a different kind of \n",
    "measurement than the other rows and It’s also effectively introducing duplicate measurements (as a single \n",
    "student could be aggregated into both a state row and the all row). This will interfere with summary statistics,\n",
    "so I've decided to drop it.\n",
    "\"\"\"\n",
    "sat = all_dropped"
   ]
  },
  {
   "cell_type": "markdown",
   "metadata": {},
   "source": [
    "**Q:** Look at the first ten rows of the DataFrame: what does our data describe?\n",
    "\n",
    "**A:** Sat includes 52 rows. 50 rows have a unique US state codes in the state column. One row lists 'DC' (i.e. the District of Columbia) as it's state. The remaining row (dropped) has the label \"All\" for state, which I assume to be the national average. Given this, I assume that the other 3 columns are summary statisics for SATs in each state and D.C., with rate being participation rate (%) and verbal and math being the average score on the verbal and math components of the SATs per state (it is unclear if this is the mean or median)."
   ]
  },
  {
   "cell_type": "markdown",
   "metadata": {},
   "source": [
    "<img src=\"http://imgur.com/l5NasQj.png\" style=\"float: left; margin: 25px 15px 0px 0px; height: 25px\">\n",
    "\n",
    "## 2. Create a \"data dictionary\" based on the data\n",
    "\n",
    "---\n",
    "\n",
    "A data dictionary is an object that describes your data. This should contain the name of each variable (column), the type of the variable, your description of what the variable is, and the shape (rows and columns) of the entire dataset."
   ]
  },
  {
   "cell_type": "code",
   "execution_count": 309,
   "metadata": {},
   "outputs": [
    {
     "data": {
      "text/plain": [
       "{'state': '(str) The state which the scores come from, formatted as United States standard state codes.',\n",
       " 'rate': \"(int) The percentage of the state's eligible students who took the SAT test.\",\n",
       " 'verbal': \"(int) The state's average score on the SAT test's verbal component.\",\n",
       " 'math': \"(int) The state's average score on the SAT test's math component.\",\n",
       " 'shape': (51, 4)}"
      ]
     },
     "execution_count": 309,
     "metadata": {},
     "output_type": "execute_result"
    }
   ],
   "source": [
    "sat_data_dictionary = {\n",
    "    'state'  :\"(str) The state which the scores come from, formatted as United States standard state codes.\",\n",
    "    'rate'   :\"(int) The percentage of the state's eligible students who took the SAT test.\",\n",
    "    'verbal' :\"(int) The state's average score on the SAT test's verbal component.\",\n",
    "    'math'   :\"(int) The state's average score on the SAT test's math component.\",\n",
    "    'shape'  :sat.shape\n",
    "}\n",
    "\n",
    "sat_data_dictionary"
   ]
  },
  {
   "cell_type": "markdown",
   "metadata": {},
   "source": [
    "<img src=\"http://imgur.com/l5NasQj.png\" style=\"float: left; margin: 25px 15px 0px 0px; height: 25px\">\n",
    "\n",
    "## 3. Plot the data using seaborn\n",
    "\n",
    "---\n",
    "\n",
    "### 3.1 Using seaborn's `distplot`, plot the distributions for each of `Rate`, `Math`, and `Verbal`\n",
    "\n",
    "Set the keyword argument `kde=False`. This way you can actually see the counts within bins. You can adjust the number of bins to your liking. \n",
    "\n",
    "[Please read over the `distplot` documentation to learn about the arguments and fine-tune your chart if you want.](https://stanford.edu/~mwaskom/software/seaborn/generated/seaborn.distplot.html#seaborn.distplot)"
   ]
  },
  {
   "cell_type": "code",
   "execution_count": 310,
   "metadata": {},
   "outputs": [
    {
     "data": {
      "image/png": "[encoded data removed]",
      "text/plain": [
       "<Figure size 1512x432 with 3 Axes>"
      ]
     },
     "metadata": {
      "image/png": {
       "height": 423,
       "width": 1201
      }
     },
     "output_type": "display_data"
    }
   ],
   "source": [
    "# setting label sizes\n",
    "sns.set(rc = {'axes.labelsize' : 18 })\n",
    "\n",
    "# generating fig, axes\n",
    "fig, ax = plt.subplots(1,3, figsize=[21,6])\n",
    "\n",
    "# setting fig title\n",
    "fig.suptitle(\"Histograms for the SATs data's numerical variables\" ,\n",
    "               fontsize = 'x-large' , \n",
    "               fontweight = 'bold' );\n",
    "\n",
    "# generating histograms\n",
    "plot_num = 0\n",
    "for col in sat.columns[1:]:\n",
    "    sns.distplot(sat[col],ax=ax[plot_num],bins=20,kde=False)\n",
    "    plot_num +=1    "
   ]
  },
  {
   "cell_type": "markdown",
   "metadata": {},
   "source": [
    "### 3.2 Using seaborn's `pairplot`, show the joint distributions for each of `Rate`, `Math`, and `Verbal`\n",
    "\n",
    "Explain what the visualization tells you about your data.\n",
    "\n",
    "[Please read over the `pairplot` documentation to fine-tune your chart.](https://stanford.edu/~mwaskom/software/seaborn/generated/seaborn.pairplot.html#seaborn.pairplot)"
   ]
  },
  {
   "cell_type": "code",
   "execution_count": 311,
   "metadata": {
    "scrolled": true
   },
   "outputs": [],
   "source": [
    "# importing additional data so pairplot values may be colour coded by US state region\n",
    "census = pd.read_csv(\"/Users/lewis/Desktop/GA/DSI25-lessons/projects/project-2/us census bureau regions and divisions.csv\")\n",
    "\n",
    "# cleaning column names\n",
    "census.columns = ['state name', 'state', 'region', 'division']\n",
    "\n",
    "# joining new data to sat\n",
    "sat = sat.merge(right = census, how = 'inner', on = 'state')\n",
    "\n",
    "# adding new columns to the sat_data_dictionary\n",
    "sat_data_dictionary['state name'] = \"(str) The state's full name.\"\n",
    "sat_data_dictionary['region'] = \"(str) The region where the state is located.\"\n",
    "sat_data_dictionary['division'] = \"(str) The division where the state is located.\"\n",
    "\n"
   ]
  },
  {
   "cell_type": "code",
   "execution_count": 312,
   "metadata": {},
   "outputs": [
    {
     "data": {
      "text/plain": [
       "<seaborn.axisgrid.PairGrid at 0x7fcbe19901f0>"
      ]
     },
     "execution_count": 312,
     "metadata": {},
     "output_type": "execute_result"
    },
    {
     "data": {
      "image/png": "[encoded data removed]",
      "text/plain": [
       "<Figure size 627.475x540 with 12 Axes>"
      ]
     },
     "metadata": {
      "image/png": {
       "height": 548,
       "width": 630
      }
     },
     "output_type": "display_data"
    }
   ],
   "source": [
    "# Using seaborn's pairplot, show the joint distributions for each of Rate, Math, and Verbal\n",
    "sns.pairplot(\n",
    "    sat,\n",
    "    vars = ['rate','math','verbal'],\n",
    "    kind='scatter', \n",
    "    hue='region',\n",
    ")"
   ]
  },
  {
   "cell_type": "markdown",
   "metadata": {},
   "source": [
    "**Q:** Explain what the visualization tells you about your data.\n",
    "\n",
    "**A:**\n",
    "The pairplot shows:\n",
    "* Along the diagonal: Kernel density estimates for each region, for each of the 3 variables.\n",
    "    * The rate KDE shows that in the Midwest, it is typical for fewer than 20% students to sit the SATs. The distribution of rate in the Midwestern states is roughly normally distributed, however two Midwestern states are outliers, with participation rates of approx. 25-30% and  60%. In the North East, it is common for states to have a participation rate of ~70-80% (rougly normally distributed). The rate of students sitting the SATs varys more widely amongst states in both the South (<10%-70%) and the West (<10% - approx.55%). The distribution of rate in the South is roughly binomial, whereas in the West it is roughly normal.\n",
    "    * The math and verbal KDEs show that the average score on the math and verbal components of the SAT's is highest in the Midwest and lowest in the Northeast. Whilst the distributions of scores for the Northeast, West and Midwest are fairly normal, the Midwest has two outliers (the scatter graphs indicate these are the two Midwestern states with higher participation rates. As with rate, the Southern state's distribution for scores on the math and verbal components are roughly binomial.\n",
    "* Top centre, top left: Scatter plots, plotting rate against math and rate against verbal, respectively.\n",
    "    * These plots indicate that rate is negatively correlated with math and verbal. This suggests that in states where few students particiapte (e.g. the majority of the Midwest), only the highest ability students sit the SATs. One outlier from this trend is the Midwestern state where ~25-30% of students sit the SATs, but the average math score is lower than any other state. \n",
    "    * Both plots show that the binomial distribution of the participation rate of Southern states is also reflected in their math and verbal scores. Specifically, the average math and verbal scores tend to be higher for states where fewer students participate, than for those where more do.\n",
    "    * Interestingly, although Northeastern states have higher participation rates (~70%+) than high-rate Southern states (~50%+), they tend to have moderately higher average scores for math and verbal. Whilst this effect is only minor, it could be enough to suggest that, in a regession analysis, it may be more appropriate to fit the data with a 2nd degree polynomial than with a straight line.\n",
    "* Middle right: Scatter plot, plotting math against verbal.\n",
    "    * This plot shows that there is a strong positive correlation between a state's math and verbal scores. This is to be expected, as in general, students with a high abiliity level on one, will tend to have a high ability level on the other. Again, there is an outlier - the Midwestern state with <450 math. Given how far this state is from the general trend, it would be worth investigating whether it's value for math is correct, or the result of a data entry error.\n",
    "* Middle left, bottom left, bottom centre.\n",
    "    * These plots are transpositions of other plots discussed above."
   ]
  },
  {
   "cell_type": "markdown",
   "metadata": {},
   "source": [
    "<img src=\"http://imgur.com/l5NasQj.png\" style=\"float: left; margin: 25px 15px 0px 0px; height: 25px\">\n",
    "\n",
    "## 4. Plot the data using built-in pandas functions.\n",
    "\n",
    "---\n",
    "\n",
    "Pandas is very powerful and contains a variety of nice, built-in plotting functions for your data. Read the documentation here to understand the capabilities:\n",
    "\n",
    "http://pandas.pydata.org/pandas-docs/stable/visualization.html\n",
    "\n",
    "### 4.1 Plot a stacked histogram with `Verbal` and `Math` using pandas"
   ]
  },
  {
   "cell_type": "code",
   "execution_count": 313,
   "metadata": {},
   "outputs": [
    {
     "data": {
      "image/png": "[encoded data removed]",
      "text/plain": [
       "<Figure size 432x288 with 1 Axes>"
      ]
     },
     "metadata": {
      "image/png": {
       "height": 251,
       "width": 391
      }
     },
     "output_type": "display_data"
    }
   ],
   "source": [
    "sat[['verbal','math']].plot(kind='hist', bins=20, stacked =True);\n",
    "\n",
    "# TO DO: add title and axis labels"
   ]
  },
  {
   "cell_type": "markdown",
   "metadata": {},
   "source": [
    "### 4.2 Plot `Verbal` and `Math` on the same chart using boxplots\n",
    "\n",
    "What are the benefits of using a boxplot as compared to a scatterplot or a histogram?\n",
    "\n",
    "What's wrong with plotting a box-plot of `Rate` on the same chart as `Math` and `Verbal`?"
   ]
  },
  {
   "cell_type": "code",
   "execution_count": 314,
   "metadata": {},
   "outputs": [
    {
     "data": {
      "image/png": "[encoded data removed]",
      "text/plain": [
       "<Figure size 432x288 with 1 Axes>"
      ]
     },
     "metadata": {
      "image/png": {
       "height": 251,
       "width": 377
      }
     },
     "output_type": "display_data"
    }
   ],
   "source": [
    "sat[['verbal','math']].plot(kind='box');\n",
    "\n",
    "\"\"\"\n",
    "TO DO:\n",
    "\n",
    "figure out how to add title & axis labels\n",
    "\n",
    "stacked_hist.xlabel=\"SAT component\"\n",
    "stacked_hist.ylabel=\"Average state score\"\n",
    "\"\"\";\n"
   ]
  },
  {
   "cell_type": "markdown",
   "metadata": {},
   "source": [
    "**Q:** What are the benefits of using a boxplot as compared to a scatterplot or a histogram?\n",
    "\n",
    "**A:** Both histograms and box plots show the distribution of the dataset. The advantage of a box plot is that is also \n",
    "shows the quartiles of the dataset and any outliers (defined as values beyond 1.5 x IQR or -1.5 x IQR.\n",
    "\n",
    "**Q:** What's wrong with plotting a box-plot of Rate on the same chart as Math and Verbal?\n",
    "\n",
    "**A:** Rate shouldn't be plotted on the same box-plot as math and verbal, it is on a differnet scale and will \n",
    "be difficult to interpret. Specifically, values for rate have the potential to range between 0-100 (as it \n",
    "is a percentage), whereas SAT component scores (i.e. math and verbal) have the potential to range between \n",
    "200-800. The ranges of the actual values in the data set are smaller."
   ]
  },
  {
   "cell_type": "markdown",
   "metadata": {},
   "source": [
    "<img src=\"http://imgur.com/xDpSobf.png\" style=\"float: left; margin: 25px 15px 0px 0px; height: 25px\">\n",
    "\n",
    "### 4.3 Plot `Verbal`, `Math`, and `Rate` appropriately on the same boxplot chart\n",
    "\n",
    "Think about how you might change the variables so that they would make sense on the same chart. Explain your rationale for the choices on the chart. You should strive to make the chart as intuitive as possible. \n"
   ]
  },
  {
   "cell_type": "code",
   "execution_count": 315,
   "metadata": {},
   "outputs": [
    {
     "data": {
      "image/png": "[encoded data removed]",
      "text/plain": [
       "<Figure size 432x288 with 1 Axes>"
      ]
     },
     "metadata": {
      "image/png": {
       "height": 279,
       "width": 371
      }
     },
     "output_type": "display_data"
    }
   ],
   "source": [
    "# z-score scaling the data\n",
    "sats_zscaled = pd.DataFrame(stats.zscore(sat[['verbal','math','rate']]))\n",
    "\n",
    "# adding column names to sats_zscaled\n",
    "sats_zscaled.columns = ['verbal','math','rate']\n",
    "\n",
    "# plotting sats_zscaled\n",
    "sats_zscaled.plot(kind='box', title = \"Box plots for the SATs data's \\n numerical variables (z-score standardized)\");"
   ]
  },
  {
   "cell_type": "markdown",
   "metadata": {},
   "source": [
    "**Q:** Think about how you might change the variables so that they would make sense on the same chart. Explain your rationale for the choices on the chart.\n",
    "\n",
    "**A:** I have scaled the data using z-score standardization. This sets the mean of each variable to 0 and the standard deviation to 1. Although this does not show the true scale of the data, it does ensure that all variables are on the same scale, allowing for easy and intuitive comparison of their distributions, medians, quartiles and outliers (of which there are none)."
   ]
  },
  {
   "cell_type": "markdown",
   "metadata": {},
   "source": [
    "<img src=\"http://imgur.com/l5NasQj.png\" style=\"float: left; margin: 25px 15px 0px 0px; height: 25px\">\n",
    "\n",
    "## 5. Create and examine subsets of the data\n",
    "\n",
    "---\n",
    "\n",
    "For these questions you will practice **masking** in pandas. Masking uses conditional statements to select portions of your DataFrame (through boolean operations under the hood.)\n",
    "\n",
    "Remember the distinction between DataFrame indexing functions in pandas:\n",
    "\n",
    "    .iloc[row, col] : row and column are specified by index, which are integers\n",
    "    .loc[row, col]  : row and column are specified by string \"labels\" (boolean arrays are allowed; useful for rows)\n",
    "    .ix[row, col]   : row and column indexers can be a mix of labels and integer indices\n",
    "    \n",
    "For detailed reference and tutorial make sure to read over the pandas documentation:\n",
    "\n",
    "http://pandas.pydata.org/pandas-docs/stable/indexing.html\n",
    "\n",
    "\n",
    "\n",
    "### 5.1 Find the list of states that have `Verbal` scores greater than the average of `Verbal` scores across states\n",
    "\n",
    "How many states are above the mean? What does this tell you about the distribution of `Verbal` scores?\n",
    "\n",
    "\n"
   ]
  },
  {
   "cell_type": "code",
   "execution_count": 316,
   "metadata": {},
   "outputs": [
    {
     "name": "stdout",
     "output_type": "stream",
     "text": [
      "There are 24 states with verbal scores above the mean (532.53).\n"
     ]
    },
    {
     "data": {
      "text/html": [
       "<div>\n",
       "<style scoped>\n",
       "    .dataframe tbody tr th:only-of-type {\n",
       "        vertical-align: middle;\n",
       "    }\n",
       "\n",
       "    .dataframe tbody tr th {\n",
       "        vertical-align: top;\n",
       "    }\n",
       "\n",
       "    .dataframe thead th {\n",
       "        text-align: right;\n",
       "    }\n",
       "</style>\n",
       "<table border=\"1\" class=\"dataframe\">\n",
       "  <thead>\n",
       "    <tr style=\"text-align: right;\">\n",
       "      <th></th>\n",
       "      <th>state</th>\n",
       "      <th>rate</th>\n",
       "      <th>verbal</th>\n",
       "      <th>math</th>\n",
       "      <th>state name</th>\n",
       "      <th>region</th>\n",
       "      <th>division</th>\n",
       "    </tr>\n",
       "  </thead>\n",
       "  <tbody>\n",
       "    <tr>\n",
       "      <th>26</th>\n",
       "      <td>CO</td>\n",
       "      <td>31</td>\n",
       "      <td>539</td>\n",
       "      <td>542</td>\n",
       "      <td>Colorado</td>\n",
       "      <td>West</td>\n",
       "      <td>Mountain</td>\n",
       "    </tr>\n",
       "    <tr>\n",
       "      <th>27</th>\n",
       "      <td>OH</td>\n",
       "      <td>26</td>\n",
       "      <td>534</td>\n",
       "      <td>439</td>\n",
       "      <td>Ohio</td>\n",
       "      <td>Midwest</td>\n",
       "      <td>East North Central</td>\n",
       "    </tr>\n",
       "    <tr>\n",
       "      <th>28</th>\n",
       "      <td>MT</td>\n",
       "      <td>23</td>\n",
       "      <td>539</td>\n",
       "      <td>539</td>\n",
       "      <td>Montana</td>\n",
       "      <td>West</td>\n",
       "      <td>Mountain</td>\n",
       "    </tr>\n",
       "    <tr>\n",
       "      <th>30</th>\n",
       "      <td>ID</td>\n",
       "      <td>17</td>\n",
       "      <td>543</td>\n",
       "      <td>542</td>\n",
       "      <td>Idaho</td>\n",
       "      <td>West</td>\n",
       "      <td>Mountain</td>\n",
       "    </tr>\n",
       "    <tr>\n",
       "      <th>31</th>\n",
       "      <td>TN</td>\n",
       "      <td>13</td>\n",
       "      <td>562</td>\n",
       "      <td>553</td>\n",
       "      <td>Tennessee</td>\n",
       "      <td>South</td>\n",
       "      <td>East South Central</td>\n",
       "    </tr>\n",
       "  </tbody>\n",
       "</table>\n",
       "</div>"
      ],
      "text/plain": [
       "   state  rate  verbal  math state name   region            division\n",
       "26    CO    31     539   542   Colorado     West            Mountain\n",
       "27    OH    26     534   439       Ohio  Midwest  East North Central\n",
       "28    MT    23     539   539    Montana     West            Mountain\n",
       "30    ID    17     543   542      Idaho     West            Mountain\n",
       "31    TN    13     562   553  Tennessee    South  East South Central"
      ]
     },
     "execution_count": 316,
     "metadata": {},
     "output_type": "execute_result"
    }
   ],
   "source": [
    "print(f\"There are {len(sat[sat.verbal > np.mean(sat.verbal)])} states with verbal scores above the mean ({round(np.mean(sat.verbal),2)}).\")\n",
    "sat[sat.verbal > np.mean(sat.verbal)].head()"
   ]
  },
  {
   "cell_type": "markdown",
   "metadata": {},
   "source": [
    "**Q:** What does this tell you about the distribution of Verbal scores?\n",
    "\n",
    "**A:** Fewer than half the states have a verbal score above the mean. This indicates that the data are right/positively skewed (if only mildly)"
   ]
  },
  {
   "cell_type": "markdown",
   "metadata": {},
   "source": [
    "### 5.2 Find the list of states that have `Verbal` scores greater than the median of `Verbal` scores across states\n",
    "\n",
    "How does this compare to the list of states greater than the mean of `Verbal` scores? Why?"
   ]
  },
  {
   "cell_type": "code",
   "execution_count": 317,
   "metadata": {},
   "outputs": [
    {
     "name": "stdout",
     "output_type": "stream",
     "text": [
      "There are 24 states with verbal scores above the median (527.0).\n"
     ]
    },
    {
     "data": {
      "text/html": [
       "<div>\n",
       "<style scoped>\n",
       "    .dataframe tbody tr th:only-of-type {\n",
       "        vertical-align: middle;\n",
       "    }\n",
       "\n",
       "    .dataframe tbody tr th {\n",
       "        vertical-align: top;\n",
       "    }\n",
       "\n",
       "    .dataframe thead th {\n",
       "        text-align: right;\n",
       "    }\n",
       "</style>\n",
       "<table border=\"1\" class=\"dataframe\">\n",
       "  <thead>\n",
       "    <tr style=\"text-align: right;\">\n",
       "      <th></th>\n",
       "      <th>state</th>\n",
       "      <th>rate</th>\n",
       "      <th>verbal</th>\n",
       "      <th>math</th>\n",
       "      <th>state name</th>\n",
       "      <th>region</th>\n",
       "      <th>division</th>\n",
       "    </tr>\n",
       "  </thead>\n",
       "  <tbody>\n",
       "    <tr>\n",
       "      <th>26</th>\n",
       "      <td>CO</td>\n",
       "      <td>31</td>\n",
       "      <td>539</td>\n",
       "      <td>542</td>\n",
       "      <td>Colorado</td>\n",
       "      <td>West</td>\n",
       "      <td>Mountain</td>\n",
       "    </tr>\n",
       "    <tr>\n",
       "      <th>27</th>\n",
       "      <td>OH</td>\n",
       "      <td>26</td>\n",
       "      <td>534</td>\n",
       "      <td>439</td>\n",
       "      <td>Ohio</td>\n",
       "      <td>Midwest</td>\n",
       "      <td>East North Central</td>\n",
       "    </tr>\n",
       "    <tr>\n",
       "      <th>28</th>\n",
       "      <td>MT</td>\n",
       "      <td>23</td>\n",
       "      <td>539</td>\n",
       "      <td>539</td>\n",
       "      <td>Montana</td>\n",
       "      <td>West</td>\n",
       "      <td>Mountain</td>\n",
       "    </tr>\n",
       "    <tr>\n",
       "      <th>30</th>\n",
       "      <td>ID</td>\n",
       "      <td>17</td>\n",
       "      <td>543</td>\n",
       "      <td>542</td>\n",
       "      <td>Idaho</td>\n",
       "      <td>West</td>\n",
       "      <td>Mountain</td>\n",
       "    </tr>\n",
       "    <tr>\n",
       "      <th>31</th>\n",
       "      <td>TN</td>\n",
       "      <td>13</td>\n",
       "      <td>562</td>\n",
       "      <td>553</td>\n",
       "      <td>Tennessee</td>\n",
       "      <td>South</td>\n",
       "      <td>East South Central</td>\n",
       "    </tr>\n",
       "  </tbody>\n",
       "</table>\n",
       "</div>"
      ],
      "text/plain": [
       "   state  rate  verbal  math state name   region            division\n",
       "26    CO    31     539   542   Colorado     West            Mountain\n",
       "27    OH    26     534   439       Ohio  Midwest  East North Central\n",
       "28    MT    23     539   539    Montana     West            Mountain\n",
       "30    ID    17     543   542      Idaho     West            Mountain\n",
       "31    TN    13     562   553  Tennessee    South  East South Central"
      ]
     },
     "execution_count": 317,
     "metadata": {},
     "output_type": "execute_result"
    }
   ],
   "source": [
    "print(f\"There are {len(sat[sat.verbal > np.median(sat.verbal)])} states with verbal scores above the median ({np.median(sat.verbal)}).\")\n",
    "sat[sat.verbal > np.median(sat.verbal)].head()"
   ]
  },
  {
   "cell_type": "markdown",
   "metadata": {},
   "source": [
    "**Q:** How does this compare to the list of states greater than the mean of Verbal scores? Why?\n",
    "\n",
    "**A:** This list is identical to the previous list. This is because 24 verbal scores are above the median, 2 sit on the median and 25 are below the median."
   ]
  },
  {
   "cell_type": "markdown",
   "metadata": {},
   "source": [
    "### 5.3 Create a column that is the difference between the `Verbal` and `Math` scores\n",
    "\n",
    "Specifically, this should be `Verbal - Math`."
   ]
  },
  {
   "cell_type": "code",
   "execution_count": 318,
   "metadata": {},
   "outputs": [
    {
     "data": {
      "text/html": [
       "<div>\n",
       "<style scoped>\n",
       "    .dataframe tbody tr th:only-of-type {\n",
       "        vertical-align: middle;\n",
       "    }\n",
       "\n",
       "    .dataframe tbody tr th {\n",
       "        vertical-align: top;\n",
       "    }\n",
       "\n",
       "    .dataframe thead th {\n",
       "        text-align: right;\n",
       "    }\n",
       "</style>\n",
       "<table border=\"1\" class=\"dataframe\">\n",
       "  <thead>\n",
       "    <tr style=\"text-align: right;\">\n",
       "      <th></th>\n",
       "      <th>state</th>\n",
       "      <th>rate</th>\n",
       "      <th>verbal</th>\n",
       "      <th>math</th>\n",
       "      <th>state name</th>\n",
       "      <th>region</th>\n",
       "      <th>division</th>\n",
       "      <th>verbal_math_diff</th>\n",
       "    </tr>\n",
       "  </thead>\n",
       "  <tbody>\n",
       "    <tr>\n",
       "      <th>0</th>\n",
       "      <td>CT</td>\n",
       "      <td>82</td>\n",
       "      <td>509</td>\n",
       "      <td>510</td>\n",
       "      <td>Connecticut</td>\n",
       "      <td>Northeast</td>\n",
       "      <td>New England</td>\n",
       "      <td>-1</td>\n",
       "    </tr>\n",
       "    <tr>\n",
       "      <th>1</th>\n",
       "      <td>NJ</td>\n",
       "      <td>81</td>\n",
       "      <td>499</td>\n",
       "      <td>513</td>\n",
       "      <td>New Jersey</td>\n",
       "      <td>Northeast</td>\n",
       "      <td>Middle Atlantic</td>\n",
       "      <td>-14</td>\n",
       "    </tr>\n",
       "    <tr>\n",
       "      <th>2</th>\n",
       "      <td>MA</td>\n",
       "      <td>79</td>\n",
       "      <td>511</td>\n",
       "      <td>515</td>\n",
       "      <td>Massachusetts</td>\n",
       "      <td>Northeast</td>\n",
       "      <td>New England</td>\n",
       "      <td>-4</td>\n",
       "    </tr>\n",
       "    <tr>\n",
       "      <th>3</th>\n",
       "      <td>NY</td>\n",
       "      <td>77</td>\n",
       "      <td>495</td>\n",
       "      <td>505</td>\n",
       "      <td>New York</td>\n",
       "      <td>Northeast</td>\n",
       "      <td>Middle Atlantic</td>\n",
       "      <td>-10</td>\n",
       "    </tr>\n",
       "    <tr>\n",
       "      <th>4</th>\n",
       "      <td>NH</td>\n",
       "      <td>72</td>\n",
       "      <td>520</td>\n",
       "      <td>516</td>\n",
       "      <td>New Hampshire</td>\n",
       "      <td>Northeast</td>\n",
       "      <td>New England</td>\n",
       "      <td>4</td>\n",
       "    </tr>\n",
       "  </tbody>\n",
       "</table>\n",
       "</div>"
      ],
      "text/plain": [
       "  state  rate  verbal  math     state name     region         division  \\\n",
       "0    CT    82     509   510    Connecticut  Northeast      New England   \n",
       "1    NJ    81     499   513     New Jersey  Northeast  Middle Atlantic   \n",
       "2    MA    79     511   515  Massachusetts  Northeast      New England   \n",
       "3    NY    77     495   505       New York  Northeast  Middle Atlantic   \n",
       "4    NH    72     520   516  New Hampshire  Northeast      New England   \n",
       "\n",
       "   verbal_math_diff  \n",
       "0                -1  \n",
       "1               -14  \n",
       "2                -4  \n",
       "3               -10  \n",
       "4                 4  "
      ]
     },
     "execution_count": 318,
     "metadata": {},
     "output_type": "execute_result"
    }
   ],
   "source": [
    "sat['verbal_math_diff'] = sat['verbal'].subtract(sat['math'])\n",
    "sat.head()"
   ]
  },
  {
   "cell_type": "markdown",
   "metadata": {},
   "source": [
    "### 5.4 Create two new DataFrames showing states with the greatest difference between scores\n",
    "\n",
    "1. Your first DataFrame should be the 10 states with the greatest gap between `Verbal` and `Math` scores where `Verbal` is greater than `Math`. It should be sorted appropriately to show the ranking of states.\n",
    "2. Your second DataFrame will be the inverse: states with the greatest gap between `Verbal` and `Math` such that `Math` is greater than `Verbal`. Again, this should be sorted appropriately to show rank.\n",
    "3. Print the header of both variables, only showing the top 3 states in each."
   ]
  },
  {
   "cell_type": "code",
   "execution_count": 319,
   "metadata": {},
   "outputs": [
    {
     "data": {
      "text/html": [
       "<div>\n",
       "<style scoped>\n",
       "    .dataframe tbody tr th:only-of-type {\n",
       "        vertical-align: middle;\n",
       "    }\n",
       "\n",
       "    .dataframe tbody tr th {\n",
       "        vertical-align: top;\n",
       "    }\n",
       "\n",
       "    .dataframe thead th {\n",
       "        text-align: right;\n",
       "    }\n",
       "</style>\n",
       "<table border=\"1\" class=\"dataframe\">\n",
       "  <thead>\n",
       "    <tr style=\"text-align: right;\">\n",
       "      <th></th>\n",
       "      <th>state</th>\n",
       "      <th>rate</th>\n",
       "      <th>verbal</th>\n",
       "      <th>math</th>\n",
       "      <th>state name</th>\n",
       "      <th>region</th>\n",
       "      <th>division</th>\n",
       "      <th>verbal_math_diff</th>\n",
       "    </tr>\n",
       "  </thead>\n",
       "  <tbody>\n",
       "    <tr>\n",
       "      <th>27</th>\n",
       "      <td>OH</td>\n",
       "      <td>26</td>\n",
       "      <td>534</td>\n",
       "      <td>439</td>\n",
       "      <td>Ohio</td>\n",
       "      <td>Midwest</td>\n",
       "      <td>East North Central</td>\n",
       "      <td>95</td>\n",
       "    </tr>\n",
       "    <tr>\n",
       "      <th>29</th>\n",
       "      <td>WV</td>\n",
       "      <td>18</td>\n",
       "      <td>527</td>\n",
       "      <td>512</td>\n",
       "      <td>West Virginia</td>\n",
       "      <td>South</td>\n",
       "      <td>South Atlantic</td>\n",
       "      <td>15</td>\n",
       "    </tr>\n",
       "    <tr>\n",
       "      <th>50</th>\n",
       "      <td>MS</td>\n",
       "      <td>4</td>\n",
       "      <td>566</td>\n",
       "      <td>551</td>\n",
       "      <td>Mississippi</td>\n",
       "      <td>South</td>\n",
       "      <td>East South Central</td>\n",
       "      <td>15</td>\n",
       "    </tr>\n",
       "    <tr>\n",
       "      <th>45</th>\n",
       "      <td>AR</td>\n",
       "      <td>6</td>\n",
       "      <td>562</td>\n",
       "      <td>550</td>\n",
       "      <td>Arkansas</td>\n",
       "      <td>South</td>\n",
       "      <td>West South Central</td>\n",
       "      <td>12</td>\n",
       "    </tr>\n",
       "    <tr>\n",
       "      <th>31</th>\n",
       "      <td>TN</td>\n",
       "      <td>13</td>\n",
       "      <td>562</td>\n",
       "      <td>553</td>\n",
       "      <td>Tennessee</td>\n",
       "      <td>South</td>\n",
       "      <td>East South Central</td>\n",
       "      <td>9</td>\n",
       "    </tr>\n",
       "    <tr>\n",
       "      <th>9</th>\n",
       "      <td>VA</td>\n",
       "      <td>68</td>\n",
       "      <td>510</td>\n",
       "      <td>501</td>\n",
       "      <td>Virginia</td>\n",
       "      <td>South</td>\n",
       "      <td>South Atlantic</td>\n",
       "      <td>9</td>\n",
       "    </tr>\n",
       "    <tr>\n",
       "      <th>32</th>\n",
       "      <td>NM</td>\n",
       "      <td>13</td>\n",
       "      <td>551</td>\n",
       "      <td>542</td>\n",
       "      <td>New Mexico</td>\n",
       "      <td>West</td>\n",
       "      <td>Mountain</td>\n",
       "      <td>9</td>\n",
       "    </tr>\n",
       "    <tr>\n",
       "      <th>16</th>\n",
       "      <td>DC</td>\n",
       "      <td>56</td>\n",
       "      <td>482</td>\n",
       "      <td>474</td>\n",
       "      <td>District of Columbia</td>\n",
       "      <td>South</td>\n",
       "      <td>South Atlantic</td>\n",
       "      <td>8</td>\n",
       "    </tr>\n",
       "    <tr>\n",
       "      <th>41</th>\n",
       "      <td>OK</td>\n",
       "      <td>8</td>\n",
       "      <td>567</td>\n",
       "      <td>561</td>\n",
       "      <td>Oklahoma</td>\n",
       "      <td>South</td>\n",
       "      <td>West South Central</td>\n",
       "      <td>6</td>\n",
       "    </tr>\n",
       "    <tr>\n",
       "      <th>8</th>\n",
       "      <td>ME</td>\n",
       "      <td>69</td>\n",
       "      <td>506</td>\n",
       "      <td>500</td>\n",
       "      <td>Maine</td>\n",
       "      <td>Northeast</td>\n",
       "      <td>New England</td>\n",
       "      <td>6</td>\n",
       "    </tr>\n",
       "  </tbody>\n",
       "</table>\n",
       "</div>"
      ],
      "text/plain": [
       "   state  rate  verbal  math            state name     region  \\\n",
       "27    OH    26     534   439                  Ohio    Midwest   \n",
       "29    WV    18     527   512         West Virginia      South   \n",
       "50    MS     4     566   551           Mississippi      South   \n",
       "45    AR     6     562   550              Arkansas      South   \n",
       "31    TN    13     562   553             Tennessee      South   \n",
       "9     VA    68     510   501              Virginia      South   \n",
       "32    NM    13     551   542            New Mexico       West   \n",
       "16    DC    56     482   474  District of Columbia      South   \n",
       "41    OK     8     567   561              Oklahoma      South   \n",
       "8     ME    69     506   500                 Maine  Northeast   \n",
       "\n",
       "              division  verbal_math_diff  \n",
       "27  East North Central                95  \n",
       "29      South Atlantic                15  \n",
       "50  East South Central                15  \n",
       "45  West South Central                12  \n",
       "31  East South Central                 9  \n",
       "9       South Atlantic                 9  \n",
       "32            Mountain                 9  \n",
       "16      South Atlantic                 8  \n",
       "41  West South Central                 6  \n",
       "8          New England                 6  "
      ]
     },
     "execution_count": 319,
     "metadata": {},
     "output_type": "execute_result"
    }
   ],
   "source": [
    "# 10 states with the greatest gap between Verbal and Math scores where Verbal is greater than Math\n",
    "sat[sat['verbal'] > sat['math']].sort_values('verbal_math_diff', ascending = False).head(10)"
   ]
  },
  {
   "cell_type": "code",
   "execution_count": 320,
   "metadata": {},
   "outputs": [
    {
     "data": {
      "text/html": [
       "<div>\n",
       "<style scoped>\n",
       "    .dataframe tbody tr th:only-of-type {\n",
       "        vertical-align: middle;\n",
       "    }\n",
       "\n",
       "    .dataframe tbody tr th {\n",
       "        vertical-align: top;\n",
       "    }\n",
       "\n",
       "    .dataframe thead th {\n",
       "        text-align: right;\n",
       "    }\n",
       "</style>\n",
       "<table border=\"1\" class=\"dataframe\">\n",
       "  <thead>\n",
       "    <tr style=\"text-align: right;\">\n",
       "      <th></th>\n",
       "      <th>state</th>\n",
       "      <th>rate</th>\n",
       "      <th>verbal</th>\n",
       "      <th>math</th>\n",
       "      <th>state name</th>\n",
       "      <th>region</th>\n",
       "      <th>division</th>\n",
       "      <th>verbal_math_diff</th>\n",
       "    </tr>\n",
       "  </thead>\n",
       "  <tbody>\n",
       "    <tr>\n",
       "      <th>21</th>\n",
       "      <td>HI</td>\n",
       "      <td>52</td>\n",
       "      <td>485</td>\n",
       "      <td>515</td>\n",
       "      <td>Hawaii</td>\n",
       "      <td>West</td>\n",
       "      <td>Pacific</td>\n",
       "      <td>-30</td>\n",
       "    </tr>\n",
       "    <tr>\n",
       "      <th>23</th>\n",
       "      <td>CA</td>\n",
       "      <td>51</td>\n",
       "      <td>498</td>\n",
       "      <td>517</td>\n",
       "      <td>California</td>\n",
       "      <td>West</td>\n",
       "      <td>Pacific</td>\n",
       "      <td>-19</td>\n",
       "    </tr>\n",
       "    <tr>\n",
       "      <th>1</th>\n",
       "      <td>NJ</td>\n",
       "      <td>81</td>\n",
       "      <td>499</td>\n",
       "      <td>513</td>\n",
       "      <td>New Jersey</td>\n",
       "      <td>Northeast</td>\n",
       "      <td>Middle Atlantic</td>\n",
       "      <td>-14</td>\n",
       "    </tr>\n",
       "    <tr>\n",
       "      <th>33</th>\n",
       "      <td>IL</td>\n",
       "      <td>12</td>\n",
       "      <td>576</td>\n",
       "      <td>589</td>\n",
       "      <td>Illinois</td>\n",
       "      <td>Midwest</td>\n",
       "      <td>East North Central</td>\n",
       "      <td>-13</td>\n",
       "    </tr>\n",
       "    <tr>\n",
       "      <th>44</th>\n",
       "      <td>WI</td>\n",
       "      <td>6</td>\n",
       "      <td>584</td>\n",
       "      <td>596</td>\n",
       "      <td>Wisconsin</td>\n",
       "      <td>Midwest</td>\n",
       "      <td>East North Central</td>\n",
       "      <td>-12</td>\n",
       "    </tr>\n",
       "    <tr>\n",
       "      <th>36</th>\n",
       "      <td>MI</td>\n",
       "      <td>11</td>\n",
       "      <td>561</td>\n",
       "      <td>572</td>\n",
       "      <td>Michigan</td>\n",
       "      <td>Midwest</td>\n",
       "      <td>East North Central</td>\n",
       "      <td>-11</td>\n",
       "    </tr>\n",
       "    <tr>\n",
       "      <th>47</th>\n",
       "      <td>IA</td>\n",
       "      <td>5</td>\n",
       "      <td>593</td>\n",
       "      <td>603</td>\n",
       "      <td>Iowa</td>\n",
       "      <td>Midwest</td>\n",
       "      <td>West North Central</td>\n",
       "      <td>-10</td>\n",
       "    </tr>\n",
       "    <tr>\n",
       "      <th>3</th>\n",
       "      <td>NY</td>\n",
       "      <td>77</td>\n",
       "      <td>495</td>\n",
       "      <td>505</td>\n",
       "      <td>New York</td>\n",
       "      <td>Northeast</td>\n",
       "      <td>Middle Atlantic</td>\n",
       "      <td>-10</td>\n",
       "    </tr>\n",
       "    <tr>\n",
       "      <th>37</th>\n",
       "      <td>MN</td>\n",
       "      <td>9</td>\n",
       "      <td>580</td>\n",
       "      <td>589</td>\n",
       "      <td>Minnesota</td>\n",
       "      <td>Midwest</td>\n",
       "      <td>West North Central</td>\n",
       "      <td>-9</td>\n",
       "    </tr>\n",
       "    <tr>\n",
       "      <th>49</th>\n",
       "      <td>ND</td>\n",
       "      <td>4</td>\n",
       "      <td>592</td>\n",
       "      <td>599</td>\n",
       "      <td>North Dakota</td>\n",
       "      <td>Midwest</td>\n",
       "      <td>West North Central</td>\n",
       "      <td>-7</td>\n",
       "    </tr>\n",
       "  </tbody>\n",
       "</table>\n",
       "</div>"
      ],
      "text/plain": [
       "   state  rate  verbal  math    state name     region            division  \\\n",
       "21    HI    52     485   515        Hawaii       West             Pacific   \n",
       "23    CA    51     498   517    California       West             Pacific   \n",
       "1     NJ    81     499   513    New Jersey  Northeast     Middle Atlantic   \n",
       "33    IL    12     576   589      Illinois    Midwest  East North Central   \n",
       "44    WI     6     584   596     Wisconsin    Midwest  East North Central   \n",
       "36    MI    11     561   572      Michigan    Midwest  East North Central   \n",
       "47    IA     5     593   603          Iowa    Midwest  West North Central   \n",
       "3     NY    77     495   505      New York  Northeast     Middle Atlantic   \n",
       "37    MN     9     580   589     Minnesota    Midwest  West North Central   \n",
       "49    ND     4     592   599  North Dakota    Midwest  West North Central   \n",
       "\n",
       "    verbal_math_diff  \n",
       "21               -30  \n",
       "23               -19  \n",
       "1                -14  \n",
       "33               -13  \n",
       "44               -12  \n",
       "36               -11  \n",
       "47               -10  \n",
       "3                -10  \n",
       "37                -9  \n",
       "49                -7  "
      ]
     },
     "execution_count": 320,
     "metadata": {},
     "output_type": "execute_result"
    }
   ],
   "source": [
    "# states with the greatest gap between Verbal and Math such that Math is greater than Verbal\n",
    "sat[sat['verbal'] < sat['math']].sort_values('verbal_math_diff').head(10)"
   ]
  },
  {
   "cell_type": "code",
   "execution_count": 321,
   "metadata": {},
   "outputs": [
    {
     "data": {
      "text/html": [
       "<div>\n",
       "<style scoped>\n",
       "    .dataframe tbody tr th:only-of-type {\n",
       "        vertical-align: middle;\n",
       "    }\n",
       "\n",
       "    .dataframe tbody tr th {\n",
       "        vertical-align: top;\n",
       "    }\n",
       "\n",
       "    .dataframe thead th {\n",
       "        text-align: right;\n",
       "    }\n",
       "</style>\n",
       "<table border=\"1\" class=\"dataframe\">\n",
       "  <thead>\n",
       "    <tr style=\"text-align: right;\">\n",
       "      <th></th>\n",
       "      <th>state</th>\n",
       "      <th>rate</th>\n",
       "      <th>verbal</th>\n",
       "      <th>math</th>\n",
       "      <th>state name</th>\n",
       "      <th>region</th>\n",
       "      <th>division</th>\n",
       "      <th>verbal_math_diff</th>\n",
       "    </tr>\n",
       "  </thead>\n",
       "  <tbody>\n",
       "    <tr>\n",
       "      <th>27</th>\n",
       "      <td>OH</td>\n",
       "      <td>26</td>\n",
       "      <td>534</td>\n",
       "      <td>439</td>\n",
       "      <td>Ohio</td>\n",
       "      <td>Midwest</td>\n",
       "      <td>East North Central</td>\n",
       "      <td>95</td>\n",
       "    </tr>\n",
       "    <tr>\n",
       "      <th>29</th>\n",
       "      <td>WV</td>\n",
       "      <td>18</td>\n",
       "      <td>527</td>\n",
       "      <td>512</td>\n",
       "      <td>West Virginia</td>\n",
       "      <td>South</td>\n",
       "      <td>South Atlantic</td>\n",
       "      <td>15</td>\n",
       "    </tr>\n",
       "    <tr>\n",
       "      <th>50</th>\n",
       "      <td>MS</td>\n",
       "      <td>4</td>\n",
       "      <td>566</td>\n",
       "      <td>551</td>\n",
       "      <td>Mississippi</td>\n",
       "      <td>South</td>\n",
       "      <td>East South Central</td>\n",
       "      <td>15</td>\n",
       "    </tr>\n",
       "  </tbody>\n",
       "</table>\n",
       "</div>"
      ],
      "text/plain": [
       "   state  rate  verbal  math     state name   region            division  \\\n",
       "27    OH    26     534   439           Ohio  Midwest  East North Central   \n",
       "29    WV    18     527   512  West Virginia    South      South Atlantic   \n",
       "50    MS     4     566   551    Mississippi    South  East South Central   \n",
       "\n",
       "    verbal_math_diff  \n",
       "27                95  \n",
       "29                15  \n",
       "50                15  "
      ]
     },
     "execution_count": 321,
     "metadata": {},
     "output_type": "execute_result"
    }
   ],
   "source": [
    "# Print the header of both variables, only showing the top 3 states in each.\n",
    "sat[sat['verbal'] > sat['math']].sort_values('verbal_math_diff', ascending = False).head(3)"
   ]
  },
  {
   "cell_type": "code",
   "execution_count": 322,
   "metadata": {},
   "outputs": [
    {
     "data": {
      "text/html": [
       "<div>\n",
       "<style scoped>\n",
       "    .dataframe tbody tr th:only-of-type {\n",
       "        vertical-align: middle;\n",
       "    }\n",
       "\n",
       "    .dataframe tbody tr th {\n",
       "        vertical-align: top;\n",
       "    }\n",
       "\n",
       "    .dataframe thead th {\n",
       "        text-align: right;\n",
       "    }\n",
       "</style>\n",
       "<table border=\"1\" class=\"dataframe\">\n",
       "  <thead>\n",
       "    <tr style=\"text-align: right;\">\n",
       "      <th></th>\n",
       "      <th>state</th>\n",
       "      <th>rate</th>\n",
       "      <th>verbal</th>\n",
       "      <th>math</th>\n",
       "      <th>state name</th>\n",
       "      <th>region</th>\n",
       "      <th>division</th>\n",
       "      <th>verbal_math_diff</th>\n",
       "    </tr>\n",
       "  </thead>\n",
       "  <tbody>\n",
       "    <tr>\n",
       "      <th>21</th>\n",
       "      <td>HI</td>\n",
       "      <td>52</td>\n",
       "      <td>485</td>\n",
       "      <td>515</td>\n",
       "      <td>Hawaii</td>\n",
       "      <td>West</td>\n",
       "      <td>Pacific</td>\n",
       "      <td>-30</td>\n",
       "    </tr>\n",
       "    <tr>\n",
       "      <th>23</th>\n",
       "      <td>CA</td>\n",
       "      <td>51</td>\n",
       "      <td>498</td>\n",
       "      <td>517</td>\n",
       "      <td>California</td>\n",
       "      <td>West</td>\n",
       "      <td>Pacific</td>\n",
       "      <td>-19</td>\n",
       "    </tr>\n",
       "    <tr>\n",
       "      <th>1</th>\n",
       "      <td>NJ</td>\n",
       "      <td>81</td>\n",
       "      <td>499</td>\n",
       "      <td>513</td>\n",
       "      <td>New Jersey</td>\n",
       "      <td>Northeast</td>\n",
       "      <td>Middle Atlantic</td>\n",
       "      <td>-14</td>\n",
       "    </tr>\n",
       "  </tbody>\n",
       "</table>\n",
       "</div>"
      ],
      "text/plain": [
       "   state  rate  verbal  math  state name     region         division  \\\n",
       "21    HI    52     485   515      Hawaii       West          Pacific   \n",
       "23    CA    51     498   517  California       West          Pacific   \n",
       "1     NJ    81     499   513  New Jersey  Northeast  Middle Atlantic   \n",
       "\n",
       "    verbal_math_diff  \n",
       "21               -30  \n",
       "23               -19  \n",
       "1                -14  "
      ]
     },
     "execution_count": 322,
     "metadata": {},
     "output_type": "execute_result"
    }
   ],
   "source": [
    "# Print the header of both variables, only showing the top 3 states in each.\n",
    "sat[sat['verbal'] < sat['math']].sort_values('verbal_math_diff').head(3)"
   ]
  },
  {
   "cell_type": "markdown",
   "metadata": {},
   "source": [
    "## 6. Examine summary statistics\n",
    "\n",
    "---\n",
    "\n",
    "Checking the summary statistics for data is an essential step in the EDA process!\n",
    "\n",
    "<img src=\"http://imgur.com/l5NasQj.png\" style=\"float: left; margin: 25px 15px 0px 0px; height: 25px\">\n",
    "\n",
    "### 6.1 Create the correlation matrix of your variables (excluding `State`).\n",
    "\n",
    "What does the correlation matrix tell you?\n"
   ]
  },
  {
   "cell_type": "code",
   "execution_count": 323,
   "metadata": {},
   "outputs": [
    {
     "data": {
      "text/html": [
       "<div>\n",
       "<style scoped>\n",
       "    .dataframe tbody tr th:only-of-type {\n",
       "        vertical-align: middle;\n",
       "    }\n",
       "\n",
       "    .dataframe tbody tr th {\n",
       "        vertical-align: top;\n",
       "    }\n",
       "\n",
       "    .dataframe thead th {\n",
       "        text-align: right;\n",
       "    }\n",
       "</style>\n",
       "<table border=\"1\" class=\"dataframe\">\n",
       "  <thead>\n",
       "    <tr style=\"text-align: right;\">\n",
       "      <th></th>\n",
       "      <th>rate</th>\n",
       "      <th>verbal</th>\n",
       "      <th>math</th>\n",
       "      <th>verbal_math_diff</th>\n",
       "    </tr>\n",
       "  </thead>\n",
       "  <tbody>\n",
       "    <tr>\n",
       "      <th>rate</th>\n",
       "      <td>1.000000</td>\n",
       "      <td>-0.888121</td>\n",
       "      <td>-0.773419</td>\n",
       "      <td>-0.098671</td>\n",
       "    </tr>\n",
       "    <tr>\n",
       "      <th>verbal</th>\n",
       "      <td>-0.888121</td>\n",
       "      <td>1.000000</td>\n",
       "      <td>0.899909</td>\n",
       "      <td>0.044527</td>\n",
       "    </tr>\n",
       "    <tr>\n",
       "      <th>math</th>\n",
       "      <td>-0.773419</td>\n",
       "      <td>0.899909</td>\n",
       "      <td>1.000000</td>\n",
       "      <td>-0.395574</td>\n",
       "    </tr>\n",
       "    <tr>\n",
       "      <th>verbal_math_diff</th>\n",
       "      <td>-0.098671</td>\n",
       "      <td>0.044527</td>\n",
       "      <td>-0.395574</td>\n",
       "      <td>1.000000</td>\n",
       "    </tr>\n",
       "  </tbody>\n",
       "</table>\n",
       "</div>"
      ],
      "text/plain": [
       "                      rate    verbal      math  verbal_math_diff\n",
       "rate              1.000000 -0.888121 -0.773419         -0.098671\n",
       "verbal           -0.888121  1.000000  0.899909          0.044527\n",
       "math             -0.773419  0.899909  1.000000         -0.395574\n",
       "verbal_math_diff -0.098671  0.044527 -0.395574          1.000000"
      ]
     },
     "execution_count": 323,
     "metadata": {},
     "output_type": "execute_result"
    }
   ],
   "source": [
    "sat.corr()"
   ]
  },
  {
   "cell_type": "markdown",
   "metadata": {},
   "source": [
    "**Q:** What does the correlation matrix tell you?\n",
    "\n",
    "**A:** \n",
    "\n",
    "The correlation matrix shows: \n",
    "* A strong negative correlation between rate and verbal, and between rate and math. This indicates that states with high participation rates tend to have lower verbal and math scores.\n",
    "* Rate has a negilibly small negative correlation with verbal_math_diff. This tells us there is likely no relationship between rate and verbal_math_diff.\n",
    "* There is a strong positive correlation between varbal and math. This indicates that states with high verbal scores typically tend to have high math scores (and vice versa).\n",
    "* A negilibly small positive correlation between verbal and verbal_math_diff. This tells us there is likely no relationship between verbal and verbal_math_diff.\n",
    "* a moderate negative correlation between math and verbal_math_diff. This tells us that as a state's math score increases, so does it's tendancy to perform better on math than on verbal. However, this effect is smaller than the correlation between math and verbal."
   ]
  },
  {
   "cell_type": "markdown",
   "metadata": {},
   "source": [
    "<img src=\"http://imgur.com/l5NasQj.png\" style=\"float: left; margin: 25px 15px 0px 0px; height: 25px\">\n",
    "\n",
    "### 6.2 Use pandas'  `.describe()` built-in function on your DataFrame\n",
    "\n",
    "Write up what each of the rows returned by the function indicate."
   ]
  },
  {
   "cell_type": "code",
   "execution_count": 324,
   "metadata": {},
   "outputs": [
    {
     "data": {
      "text/html": [
       "<div>\n",
       "<style scoped>\n",
       "    .dataframe tbody tr th:only-of-type {\n",
       "        vertical-align: middle;\n",
       "    }\n",
       "\n",
       "    .dataframe tbody tr th {\n",
       "        vertical-align: top;\n",
       "    }\n",
       "\n",
       "    .dataframe thead th {\n",
       "        text-align: right;\n",
       "    }\n",
       "</style>\n",
       "<table border=\"1\" class=\"dataframe\">\n",
       "  <thead>\n",
       "    <tr style=\"text-align: right;\">\n",
       "      <th></th>\n",
       "      <th>rate</th>\n",
       "      <th>verbal</th>\n",
       "      <th>math</th>\n",
       "      <th>verbal_math_diff</th>\n",
       "    </tr>\n",
       "  </thead>\n",
       "  <tbody>\n",
       "    <tr>\n",
       "      <th>count</th>\n",
       "      <td>51.000000</td>\n",
       "      <td>51.000000</td>\n",
       "      <td>51.000000</td>\n",
       "      <td>51.000000</td>\n",
       "    </tr>\n",
       "    <tr>\n",
       "      <th>mean</th>\n",
       "      <td>37.000000</td>\n",
       "      <td>532.529412</td>\n",
       "      <td>531.843137</td>\n",
       "      <td>0.686275</td>\n",
       "    </tr>\n",
       "    <tr>\n",
       "      <th>std</th>\n",
       "      <td>27.550681</td>\n",
       "      <td>33.360667</td>\n",
       "      <td>36.287393</td>\n",
       "      <td>15.839811</td>\n",
       "    </tr>\n",
       "    <tr>\n",
       "      <th>min</th>\n",
       "      <td>4.000000</td>\n",
       "      <td>482.000000</td>\n",
       "      <td>439.000000</td>\n",
       "      <td>-30.000000</td>\n",
       "    </tr>\n",
       "    <tr>\n",
       "      <th>25%</th>\n",
       "      <td>9.000000</td>\n",
       "      <td>501.000000</td>\n",
       "      <td>503.000000</td>\n",
       "      <td>-6.000000</td>\n",
       "    </tr>\n",
       "    <tr>\n",
       "      <th>50%</th>\n",
       "      <td>33.000000</td>\n",
       "      <td>527.000000</td>\n",
       "      <td>525.000000</td>\n",
       "      <td>0.000000</td>\n",
       "    </tr>\n",
       "    <tr>\n",
       "      <th>75%</th>\n",
       "      <td>64.000000</td>\n",
       "      <td>562.000000</td>\n",
       "      <td>557.500000</td>\n",
       "      <td>4.500000</td>\n",
       "    </tr>\n",
       "    <tr>\n",
       "      <th>max</th>\n",
       "      <td>82.000000</td>\n",
       "      <td>593.000000</td>\n",
       "      <td>603.000000</td>\n",
       "      <td>95.000000</td>\n",
       "    </tr>\n",
       "  </tbody>\n",
       "</table>\n",
       "</div>"
      ],
      "text/plain": [
       "            rate      verbal        math  verbal_math_diff\n",
       "count  51.000000   51.000000   51.000000         51.000000\n",
       "mean   37.000000  532.529412  531.843137          0.686275\n",
       "std    27.550681   33.360667   36.287393         15.839811\n",
       "min     4.000000  482.000000  439.000000        -30.000000\n",
       "25%     9.000000  501.000000  503.000000         -6.000000\n",
       "50%    33.000000  527.000000  525.000000          0.000000\n",
       "75%    64.000000  562.000000  557.500000          4.500000\n",
       "max    82.000000  593.000000  603.000000         95.000000"
      ]
     },
     "execution_count": 324,
     "metadata": {},
     "output_type": "execute_result"
    }
   ],
   "source": [
    "sat.describe()"
   ]
  },
  {
   "cell_type": "markdown",
   "metadata": {},
   "source": [
    "**Q:** Write up what each of the rows returned by the function indicate.\n",
    "\n",
    "**A:**\n",
    "* count - the count for each column. This shows that there are 51 values in the dataset and that none of the columns have missing values. \n",
    "* mean - the mean for each column. The similar values for verbal and math and very small value for verbal_math_diff indicates that the mean verbal and math scores are similar.\n",
    "* std - the standard deviation for each column. The std for rate is 27. The std for verbal and math are 33 and 36, respectively, indicating the state's math scores are more widely distributed thatn their verbal scores. The std for verbal_math_diff is 15.\n",
    "* min - the minimum value for each column. Minimum rate is 4. Minimum verbal and math scores are 482 and 439 respectively (this large gap probabaly partially accounts for math's larger std). The minimum verbal_math_diff is -30.\n",
    "* 25% - the 1st quartile/25% percentile for each column. This shows threshold for each variable which 75% of the values are above.\n",
    "* 50% - the median/2nd quartile/50% percentile for each column. For each variable, this shows the middle value and the threshold which 50% of the values are above.\n",
    "* 75% - the 3rd quartile/75% percentile for each column. For each variable, this shows the threshold which 25% of the values are above.\n",
    "* max - the maximum value recorded for each column. Earlier, I speculated that Ohio's math score may be a result of a data entry error. The max verbal_math_diff value (which is Ohio's) further highlights the irregularity of this value as it is well beyond 3 stds of the mean (athough Ohio's math value itself is just within 3 stds of the math mean). "
   ]
  },
  {
   "cell_type": "markdown",
   "metadata": {},
   "source": [
    "<img src=\"http://imgur.com/xDpSobf.png\" style=\"float: left; margin: 25px 15px 0px 0px; height: 25px\">\n",
    "\n",
    "### 6.3 Assign and print the _covariance_ matrix for the dataset\n",
    "\n",
    "1. Describe how the covariance matrix is different from the correlation matrix.\n",
    "2. What is the process to convert the covariance into the correlation?\n",
    "3. Why is the correlation matrix preferred to the covariance matrix for examining relationships in your data?"
   ]
  },
  {
   "cell_type": "code",
   "execution_count": 325,
   "metadata": {},
   "outputs": [
    {
     "data": {
      "text/html": [
       "<div>\n",
       "<style scoped>\n",
       "    .dataframe tbody tr th:only-of-type {\n",
       "        vertical-align: middle;\n",
       "    }\n",
       "\n",
       "    .dataframe tbody tr th {\n",
       "        vertical-align: top;\n",
       "    }\n",
       "\n",
       "    .dataframe thead th {\n",
       "        text-align: right;\n",
       "    }\n",
       "</style>\n",
       "<table border=\"1\" class=\"dataframe\">\n",
       "  <thead>\n",
       "    <tr style=\"text-align: right;\">\n",
       "      <th></th>\n",
       "      <th>rate</th>\n",
       "      <th>verbal</th>\n",
       "      <th>math</th>\n",
       "      <th>verbal_math_diff</th>\n",
       "    </tr>\n",
       "  </thead>\n",
       "  <tbody>\n",
       "    <tr>\n",
       "      <th>rate</th>\n",
       "      <td>759.04</td>\n",
       "      <td>-816.280000</td>\n",
       "      <td>-773.220000</td>\n",
       "      <td>-43.060000</td>\n",
       "    </tr>\n",
       "    <tr>\n",
       "      <th>verbal</th>\n",
       "      <td>-816.28</td>\n",
       "      <td>1112.934118</td>\n",
       "      <td>1089.404706</td>\n",
       "      <td>23.529412</td>\n",
       "    </tr>\n",
       "    <tr>\n",
       "      <th>math</th>\n",
       "      <td>-773.22</td>\n",
       "      <td>1089.404706</td>\n",
       "      <td>1316.774902</td>\n",
       "      <td>-227.370196</td>\n",
       "    </tr>\n",
       "    <tr>\n",
       "      <th>verbal_math_diff</th>\n",
       "      <td>-43.06</td>\n",
       "      <td>23.529412</td>\n",
       "      <td>-227.370196</td>\n",
       "      <td>250.899608</td>\n",
       "    </tr>\n",
       "  </tbody>\n",
       "</table>\n",
       "</div>"
      ],
      "text/plain": [
       "                    rate       verbal         math  verbal_math_diff\n",
       "rate              759.04  -816.280000  -773.220000        -43.060000\n",
       "verbal           -816.28  1112.934118  1089.404706         23.529412\n",
       "math             -773.22  1089.404706  1316.774902       -227.370196\n",
       "verbal_math_diff  -43.06    23.529412  -227.370196        250.899608"
      ]
     },
     "execution_count": 325,
     "metadata": {},
     "output_type": "execute_result"
    }
   ],
   "source": [
    "sat.cov()"
   ]
  },
  {
   "cell_type": "markdown",
   "metadata": {},
   "source": [
    "**Q:** What is the process to convert the covariance into the correlation?\n",
    "\n",
    "**A:**\n",
    "\n",
    "**Q:** Why is the correlation matrix preferred to the covariance matrix for examining relationships in your data?\n",
    "\n",
    "**A:** The values in the covariance matrix tell us whether the values being compared are negatively or positively associated, but not by how much. Each value in the covariance matrix is on a different scale, making them extremely difficult to compare. The values in the correlation matrix are scaled to between -1 and 1. This makes it easier to understand the nature of the relationship between the two values. It also makes it possible to compare between correlations."
   ]
  },
  {
   "cell_type": "markdown",
   "metadata": {},
   "source": [
    "<img src=\"http://imgur.com/l5NasQj.png\" style=\"float: left; margin: 25px 15px 0px 0px; height: 25px\">\n",
    "\n",
    "## 7. Performing EDA on \"drug use by age\" data.\n",
    "\n",
    "---\n",
    "\n",
    "You will now switch datasets to one with many more variables. This section of the project is more open-ended - use the techniques you practiced above!\n",
    "\n",
    "We'll work with the \"drug-use-by-age.csv\" data, sourced from and described here: https://github.com/fivethirtyeight/data/tree/master/drug-use-by-age.\n",
    "\n",
    "### 7.1 Load the data using pandas. \n",
    "\n",
    "Does this data require cleaning? Are variables missing? How will this affect your approach to EDA on the data?"
   ]
  },
  {
   "cell_type": "code",
   "execution_count": 326,
   "metadata": {},
   "outputs": [],
   "source": [
    "drugs = \"/Users/lewis/Desktop/GA/DSI25-lessons/projects/project-2/drug-use-by-age.csv\"\n",
    "\n",
    "drugs = pd.read_csv(drugs)"
   ]
  },
  {
   "cell_type": "code",
   "execution_count": 327,
   "metadata": {},
   "outputs": [],
   "source": [
    "# replacing - for _ in column names\n",
    "col_names = drugs.columns\n",
    "col_names_cleaned = []\n",
    "for col in col_names:\n",
    "    col_names_cleaned.append(col.replace('-','_'))\n",
    "drugs.columns = col_names_cleaned"
   ]
  },
  {
   "cell_type": "code",
   "execution_count": 328,
   "metadata": {},
   "outputs": [
    {
     "data": {
      "text/plain": [
       "age                         object\n",
       "n                            int64\n",
       "alcohol_use                float64\n",
       "alcohol_frequency          float64\n",
       "marijuana_use              float64\n",
       "marijuana_frequency        float64\n",
       "cocaine_use                float64\n",
       "cocaine_frequency           object\n",
       "crack_use                  float64\n",
       "crack_frequency             object\n",
       "heroin_use                 float64\n",
       "heroin_frequency            object\n",
       "hallucinogen_use           float64\n",
       "hallucinogen_frequency     float64\n",
       "inhalant_use               float64\n",
       "inhalant_frequency          object\n",
       "pain_releiver_use          float64\n",
       "pain_releiver_frequency    float64\n",
       "oxycontin_use              float64\n",
       "oxycontin_frequency         object\n",
       "tranquilizer_use           float64\n",
       "tranquilizer_frequency     float64\n",
       "stimulant_use              float64\n",
       "stimulant_frequency        float64\n",
       "meth_use                   float64\n",
       "meth_frequency              object\n",
       "sedative_use               float64\n",
       "sedative_frequency         float64\n",
       "dtype: object"
      ]
     },
     "execution_count": 328,
     "metadata": {},
     "output_type": "execute_result"
    }
   ],
   "source": [
    "drugs.dtypes"
   ]
  },
  {
   "cell_type": "markdown",
   "metadata": {},
   "source": [
    "Several columns are encoded as string/object type, which should be either ints or floats. Specifically, the age column is encoded as a string/object type as it has values meant to express a range (e.g. 22-23). I will replace these ranges with their median age. The other rows encoded as string/object type include missing values represented by a hyphen. I will replace these with NaNs and cast the columns to floats."
   ]
  },
  {
   "cell_type": "code",
   "execution_count": 329,
   "metadata": {},
   "outputs": [
    {
     "name": "stderr",
     "output_type": "stream",
     "text": [
      "<ipython-input-329-6b72ca424ad5>:5: SettingWithCopyWarning: \n",
      "A value is trying to be set on a copy of a slice from a DataFrame\n",
      "\n",
      "See the caveats in the documentation: https://pandas.pydata.org/pandas-docs/stable/user_guide/indexing.html#returning-a-view-versus-a-copy\n",
      "  age_col[cur_col] = (np.median([int(age[:2]),int(age[-2:])]))\n",
      "<ipython-input-329-6b72ca424ad5>:7: SettingWithCopyWarning: \n",
      "A value is trying to be set on a copy of a slice from a DataFrame\n",
      "\n",
      "See the caveats in the documentation: https://pandas.pydata.org/pandas-docs/stable/user_guide/indexing.html#returning-a-view-versus-a-copy\n",
      "  age_col[16] = 65\n"
     ]
    },
    {
     "data": {
      "text/plain": [
       "0       12\n",
       "1       13\n",
       "2       14\n",
       "3       15\n",
       "4       16\n",
       "5       17\n",
       "6       18\n",
       "7       19\n",
       "8       20\n",
       "9       21\n",
       "10    22.5\n",
       "11    24.5\n",
       "12    27.5\n",
       "13      32\n",
       "14      42\n",
       "15      57\n",
       "16      65\n",
       "Name: age, dtype: object"
      ]
     },
     "execution_count": 329,
     "metadata": {},
     "output_type": "execute_result"
    }
   ],
   "source": [
    "# cleaning age\n",
    "age_col = drugs.age\n",
    "cur_col = 10\n",
    "for age in list(age_col[10:16]):\n",
    "    age_col[cur_col] = (np.median([int(age[:2]),int(age[-2:])]))\n",
    "    cur_col +=1\n",
    "age_col[16] = 65\n",
    "drugs.age = age_col\n",
    "drugs.age"
   ]
  },
  {
   "cell_type": "code",
   "execution_count": 330,
   "metadata": {},
   "outputs": [
    {
     "data": {
      "text/plain": [
       "age                        0\n",
       "n                          0\n",
       "alcohol_use                0\n",
       "alcohol_frequency          0\n",
       "marijuana_use              0\n",
       "marijuana_frequency        0\n",
       "cocaine_use                0\n",
       "cocaine_frequency          1\n",
       "crack_use                  0\n",
       "crack_frequency            3\n",
       "heroin_use                 0\n",
       "heroin_frequency           1\n",
       "hallucinogen_use           0\n",
       "hallucinogen_frequency     0\n",
       "inhalant_use               0\n",
       "inhalant_frequency         1\n",
       "pain_releiver_use          0\n",
       "pain_releiver_frequency    0\n",
       "oxycontin_use              0\n",
       "oxycontin_frequency        1\n",
       "tranquilizer_use           0\n",
       "tranquilizer_frequency     0\n",
       "stimulant_use              0\n",
       "stimulant_frequency        0\n",
       "meth_use                   0\n",
       "meth_frequency             2\n",
       "sedative_use               0\n",
       "sedative_frequency         0\n",
       "dtype: int64"
      ]
     },
     "execution_count": 330,
     "metadata": {},
     "output_type": "execute_result"
    }
   ],
   "source": [
    "# replacing hyphens with NaNs \n",
    "drugs.replace('-',np.nan,inplace=True)\n",
    "drugs.isna().sum()"
   ]
  },
  {
   "cell_type": "code",
   "execution_count": 331,
   "metadata": {},
   "outputs": [
    {
     "data": {
      "text/plain": [
       "age                        float64\n",
       "n                            int64\n",
       "alcohol_use                float64\n",
       "alcohol_frequency          float64\n",
       "marijuana_use              float64\n",
       "marijuana_frequency        float64\n",
       "cocaine_use                float64\n",
       "cocaine_frequency          float64\n",
       "crack_use                  float64\n",
       "crack_frequency            float64\n",
       "heroin_use                 float64\n",
       "heroin_frequency           float64\n",
       "hallucinogen_use           float64\n",
       "hallucinogen_frequency     float64\n",
       "inhalant_use               float64\n",
       "inhalant_frequency         float64\n",
       "pain_releiver_use          float64\n",
       "pain_releiver_frequency    float64\n",
       "oxycontin_use              float64\n",
       "oxycontin_frequency        float64\n",
       "tranquilizer_use           float64\n",
       "tranquilizer_frequency     float64\n",
       "stimulant_use              float64\n",
       "stimulant_frequency        float64\n",
       "meth_use                   float64\n",
       "meth_frequency             float64\n",
       "sedative_use               float64\n",
       "sedative_frequency         float64\n",
       "dtype: object"
      ]
     },
     "execution_count": 331,
     "metadata": {},
     "output_type": "execute_result"
    }
   ],
   "source": [
    "# updating dtypes\n",
    "drugs = drugs.astype({'age':float,\n",
    "                      \"cocaine_frequency\":float,\n",
    "                      \"crack_frequency\":float,\n",
    "                      \"heroin_frequency\":float,\n",
    "                      \"inhalant_frequency\":float,\n",
    "                      \"oxycontin_frequency\":float,\n",
    "                      \"meth_frequency\":float\n",
    "                     })\n",
    "drugs.dtypes"
   ]
  },
  {
   "cell_type": "markdown",
   "metadata": {},
   "source": [
    "### 7.2 Do a high-level, initial overview of the data\n",
    "\n",
    "Get a feel for what this dataset is all about.\n",
    "\n",
    "Use whichever techniques you'd like, including those from the SAT dataset EDA. The final response to this question should be a written description of what you infer about the dataset.\n",
    "\n",
    "Some things to consider doing:\n",
    "\n",
    "- Look for relationships between variables and subsets of those variables' values\n",
    "- Derive new features from the ones available to help your analysis\n",
    "- Visualize everything!"
   ]
  },
  {
   "cell_type": "code",
   "execution_count": null,
   "metadata": {},
   "outputs": [],
   "source": []
  },
  {
   "cell_type": "markdown",
   "metadata": {},
   "source": [
    "### 7.3 Create a testable hypothesis about this data\n",
    "\n",
    "Requirements for the question:\n",
    "\n",
    "1. Write a specific question you would like to answer with the data (that can be accomplished with EDA).\n",
    "2. Write a description of the \"deliverables\": what will you report after testing/examining your hypothesis?\n",
    "3. Use EDA techniques of your choice, numeric and/or visual, to look into your question.\n",
    "4. Write up your report on what you have found regarding the hypothesis about the data you came up with.\n",
    "\n",
    "\n",
    "Your hypothesis could be on:\n",
    "\n",
    "- Difference of group means\n",
    "- Correlations between variables\n",
    "- Anything else you think is interesting, testable, and meaningful!\n",
    "\n",
    "**Important notes:**\n",
    "\n",
    "You should be only doing EDA _relevant to your question_ here. It is easy to go down rabbit holes trying to look at every facet of your data, and so we want you to get in the practice of specifying a hypothesis you are interested in first and scoping your work to specifically answer that question.\n",
    "\n",
    "Some of you may want to jump ahead to \"modeling\" data to answer your question. This is a topic addressed in the next project and **you should not do this for this project.** We specifically want you to not do modeling to emphasize the importance of performing EDA _before_ you jump to statistical analysis."
   ]
  },
  {
   "cell_type": "markdown",
   "metadata": {
    "collapsed": true
   },
   "source": [
    "** Question and deliverables**\n",
    "\n",
    "\n",
    "..."
   ]
  },
  {
   "cell_type": "code",
   "execution_count": 121,
   "metadata": {},
   "outputs": [],
   "source": [
    "# Code"
   ]
  },
  {
   "cell_type": "markdown",
   "metadata": {},
   "source": [
    "**Report**\n",
    "\n",
    "\n",
    "\n",
    "..."
   ]
  },
  {
   "cell_type": "markdown",
   "metadata": {},
   "source": [
    "<img src=\"http://imgur.com/xDpSobf.png\" style=\"float: left; margin: 25px 15px 0px 0px; height: 25px\">\n",
    "\n",
    "## 8. Introduction to dealing with outliers\n",
    "\n",
    "---\n",
    "\n",
    "Outliers are an interesting problem in statistics, in that there is not an agreed upon best way to define them. Subjectivity in selecting and analyzing data is a problem that will recur throughout the course.\n",
    "\n",
    "1. Pull out the rate variable from the sat dataset.\n",
    "2. Are there outliers in the dataset? Define, in words, how you _numerically define outliers._\n",
    "3. Print out the outliers in the dataset.\n",
    "4. Remove the outliers from the dataset.\n",
    "5. Compare the mean, median, and standard deviation of the \"cleaned\" data without outliers to the original. What is different about them and why?"
   ]
  },
  {
   "cell_type": "code",
   "execution_count": 338,
   "metadata": {},
   "outputs": [
    {
     "data": {
      "text/plain": [
       "0     82\n",
       "1     81\n",
       "2     79\n",
       "3     77\n",
       "4     72\n",
       "5     71\n",
       "6     71\n",
       "7     69\n",
       "8     69\n",
       "9     68\n",
       "10    67\n",
       "11    65\n",
       "12    65\n",
       "13    63\n",
       "14    60\n",
       "15    57\n",
       "16    56\n",
       "17    55\n",
       "18    54\n",
       "19    53\n",
       "20    53\n",
       "21    52\n",
       "22    51\n",
       "23    51\n",
       "24    34\n",
       "25    33\n",
       "26    31\n",
       "27    26\n",
       "28    23\n",
       "29    18\n",
       "30    17\n",
       "31    13\n",
       "32    13\n",
       "33    12\n",
       "34    12\n",
       "35    11\n",
       "36    11\n",
       "37     9\n",
       "38     9\n",
       "39     9\n",
       "40     8\n",
       "41     8\n",
       "42     8\n",
       "43     7\n",
       "44     6\n",
       "45     6\n",
       "46     5\n",
       "47     5\n",
       "48     4\n",
       "49     4\n",
       "50     4\n",
       "Name: rate, dtype: int64"
      ]
     },
     "execution_count": 338,
     "metadata": {},
     "output_type": "execute_result"
    }
   ],
   "source": [
    "sat.rate"
   ]
  },
  {
   "cell_type": "code",
   "execution_count": 342,
   "metadata": {},
   "outputs": [
    {
     "data": {
      "image/png": "[encoded data removed]",
      "text/plain": [
       "<Figure size 432x288 with 1 Axes>"
      ]
     },
     "metadata": {
      "image/png": {
       "height": 251,
       "width": 370
      }
     },
     "output_type": "display_data"
    }
   ],
   "source": [
    "sat.boxplot(column = 'rate');"
   ]
  },
  {
   "cell_type": "markdown",
   "metadata": {},
   "source": [
    "There are no outliers, where outliers are defined as values < IQR * 1.5 or > IQR * 1.5 "
   ]
  },
  {
   "cell_type": "code",
   "execution_count": 346,
   "metadata": {},
   "outputs": [],
   "source": [
    "sat_std = sat.rate.describe().loc['std']\n",
    "sat_mean = sat.rate.describe().loc['mean']\n",
    "\n",
    "for val in sat.rate:\n",
    "    if val > (sat_mean + (sat_std*3)):\n",
    "        print(val)\n",
    "    elif val < (sat_mean - (sat_std*3)):\n",
    "        print(val)"
   ]
  },
  {
   "cell_type": "markdown",
   "metadata": {},
   "source": [
    "<img src=\"http://imgur.com/GCAf1UX.png\" style=\"float: left; margin: 25px 15px 0px 0px; height: 25px\">\n",
    "\n",
    "### 9. Percentile scoring and Spearman rank correlation\n",
    "\n",
    "---\n",
    "\n",
    "### 9.1 Calculate the Spearman correlation of sat `Verbal` and `Math`\n",
    "\n",
    "1. How does the Spearman correlation compare to the Pearson correlation? \n",
    "2. Describe clearly in words the process of calculating the Spearman rank correlation.\n",
    "  - Hint: the word \"rank\" is in the name of the process for a reason!\n"
   ]
  },
  {
   "cell_type": "code",
   "execution_count": 349,
   "metadata": {},
   "outputs": [
    {
     "data": {
      "text/html": [
       "<div>\n",
       "<style scoped>\n",
       "    .dataframe tbody tr th:only-of-type {\n",
       "        vertical-align: middle;\n",
       "    }\n",
       "\n",
       "    .dataframe tbody tr th {\n",
       "        vertical-align: top;\n",
       "    }\n",
       "\n",
       "    .dataframe thead th {\n",
       "        text-align: right;\n",
       "    }\n",
       "</style>\n",
       "<table border=\"1\" class=\"dataframe\">\n",
       "  <thead>\n",
       "    <tr style=\"text-align: right;\">\n",
       "      <th></th>\n",
       "      <th>verbal</th>\n",
       "      <th>math</th>\n",
       "    </tr>\n",
       "  </thead>\n",
       "  <tbody>\n",
       "    <tr>\n",
       "      <th>verbal</th>\n",
       "      <td>1.000000</td>\n",
       "      <td>0.899909</td>\n",
       "    </tr>\n",
       "    <tr>\n",
       "      <th>math</th>\n",
       "      <td>0.899909</td>\n",
       "      <td>1.000000</td>\n",
       "    </tr>\n",
       "  </tbody>\n",
       "</table>\n",
       "</div>"
      ],
      "text/plain": [
       "          verbal      math\n",
       "verbal  1.000000  0.899909\n",
       "math    0.899909  1.000000"
      ]
     },
     "execution_count": 349,
     "metadata": {},
     "output_type": "execute_result"
    }
   ],
   "source": [
    "sat[['verbal','math']].corr()"
   ]
  },
  {
   "cell_type": "code",
   "execution_count": 348,
   "metadata": {},
   "outputs": [
    {
     "data": {
      "text/html": [
       "<div>\n",
       "<style scoped>\n",
       "    .dataframe tbody tr th:only-of-type {\n",
       "        vertical-align: middle;\n",
       "    }\n",
       "\n",
       "    .dataframe tbody tr th {\n",
       "        vertical-align: top;\n",
       "    }\n",
       "\n",
       "    .dataframe thead th {\n",
       "        text-align: right;\n",
       "    }\n",
       "</style>\n",
       "<table border=\"1\" class=\"dataframe\">\n",
       "  <thead>\n",
       "    <tr style=\"text-align: right;\">\n",
       "      <th></th>\n",
       "      <th>verbal</th>\n",
       "      <th>math</th>\n",
       "    </tr>\n",
       "  </thead>\n",
       "  <tbody>\n",
       "    <tr>\n",
       "      <th>verbal</th>\n",
       "      <td>1.000000</td>\n",
       "      <td>0.909413</td>\n",
       "    </tr>\n",
       "    <tr>\n",
       "      <th>math</th>\n",
       "      <td>0.909413</td>\n",
       "      <td>1.000000</td>\n",
       "    </tr>\n",
       "  </tbody>\n",
       "</table>\n",
       "</div>"
      ],
      "text/plain": [
       "          verbal      math\n",
       "verbal  1.000000  0.909413\n",
       "math    0.909413  1.000000"
      ]
     },
     "execution_count": 348,
     "metadata": {},
     "output_type": "execute_result"
    }
   ],
   "source": [
    "sat[['verbal','math']].corr(method='spearman')"
   ]
  },
  {
   "cell_type": "markdown",
   "metadata": {},
   "source": [
    "**Q:** How does the Spearman correlation compare to the Pearson correlation?\n",
    "\n",
    "**A:**\n",
    "    \n",
    "**Q:** Describe clearly in words the process of calculating the Spearman rank correlation.\n",
    "\n",
    "**A:**"
   ]
  },
  {
   "cell_type": "markdown",
   "metadata": {},
   "source": [
    "### 9.2 Percentile scoring\n",
    "\n",
    "Look up percentile scoring of data. In other words, the conversion of numeric data to their equivalent percentile scores.\n",
    "\n",
    "http://docs.scipy.org/doc/numpy-dev/reference/generated/numpy.percentile.html\n",
    "\n",
    "http://docs.scipy.org/doc/scipy/reference/generated/scipy.stats.percentileofscore.html\n",
    "\n",
    "1. Convert `Rate` to percentiles in the sat scores as a new column.\n",
    "2. Show the percentile of California in `Rate`.\n",
    "3. How is percentile related to the Spearman rank correlation?"
   ]
  },
  {
   "cell_type": "code",
   "execution_count": null,
   "metadata": {},
   "outputs": [],
   "source": []
  },
  {
   "cell_type": "markdown",
   "metadata": {},
   "source": [
    "### 9.3 Percentiles and outliers\n",
    "\n",
    "1. Why might percentile scoring be useful for dealing with outliers?\n",
    "2. Plot the distribution of a variable of your choice from the drug use dataset.\n",
    "3. Plot the same variable but percentile scored.\n",
    "4. Describe the effect, visually, of converting raw scores to percentile."
   ]
  },
  {
   "cell_type": "code",
   "execution_count": null,
   "metadata": {},
   "outputs": [],
   "source": []
  }
 ],
 "metadata": {
  "kernelspec": {
   "display_name": "Python 3",
   "language": "python",
   "name": "python3"
  },
  "language_info": {
   "codemirror_mode": {
    "name": "ipython",
    "version": 3
   },
   "file_extension": ".py",
   "mimetype": "text/x-python",
   "name": "python",
   "nbconvert_exporter": "python",
   "pygments_lexer": "ipython3",
   "version": "3.8.3"
  },
  "toc": {
   "base_numbering": 1,
   "nav_menu": {},
   "number_sections": false,
   "sideBar": true,
   "skip_h1_title": true,
   "title_cell": "Table of Contents",
   "title_sidebar": "Contents",
   "toc_cell": false,
   "toc_position": {},
   "toc_section_display": "block",
   "toc_window_display": false
  }
 },
 "nbformat": 4,
 "nbformat_minor": 1
}
